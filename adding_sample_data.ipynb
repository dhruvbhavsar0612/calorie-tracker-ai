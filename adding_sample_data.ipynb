{
 "cells": [
  {
   "cell_type": "code",
   "execution_count": 67,
   "metadata": {},
   "outputs": [],
   "source": [
    "import random\n",
    "import pandas as pd\n",
    "from datetime import datetime, timedelta\n",
    "\n",
    "def generate_sample_data(user_email, start_date, days):\n",
    "    data = []\n",
    "    calories_range = (50, 1500)  # Adjust the calorie range \n",
    "    current_date = start_date\n",
    "    for _ in range(days):  # Assuming around 8 entries per day\n",
    "        for _ in range(random.choice([4,6,5,8,9,6])):\n",
    "            timestamp = current_date + timedelta(hours=random.randint(0, 23), minutes=random.randint(0, 59))\n",
    "            calories = random.randint(*calories_range)\n",
    "            data.append({'user_email': user_email, 'calories': calories, 'timestamp': timestamp})\n",
    "            current_date += timedelta(minutes=random.randint(30, 120))  # Random intervals\n",
    "\n",
    "    return pd.DataFrame(data)\n",
    "\n",
    "# Example usage\n",
    "start_date = datetime.now() - timedelta(days=30)  # 30 days back\n",
    "sample_data = generate_sample_data('d@gmail.com', start_date, 30)\n"
   ]
  },
  {
   "cell_type": "code",
   "execution_count": 68,
   "metadata": {},
   "outputs": [
    {
     "name": "stdout",
     "output_type": "stream",
     "text": [
      "2024-02-22 12:49:31.044349\n"
     ]
    }
   ],
   "source": [
    "print(start_date)"
   ]
  },
  {
   "cell_type": "code",
   "execution_count": 69,
   "metadata": {},
   "outputs": [],
   "source": [
    "sample_data.to_csv('sample_data.csv', index=False)"
   ]
  },
  {
   "cell_type": "code",
   "execution_count": 70,
   "metadata": {},
   "outputs": [
    {
     "data": {
      "text/html": [
       "<div>\n",
       "<style scoped>\n",
       "    .dataframe tbody tr th:only-of-type {\n",
       "        vertical-align: middle;\n",
       "    }\n",
       "\n",
       "    .dataframe tbody tr th {\n",
       "        vertical-align: top;\n",
       "    }\n",
       "\n",
       "    .dataframe thead th {\n",
       "        text-align: right;\n",
       "    }\n",
       "</style>\n",
       "<table border=\"1\" class=\"dataframe\">\n",
       "  <thead>\n",
       "    <tr style=\"text-align: right;\">\n",
       "      <th></th>\n",
       "      <th>user_email</th>\n",
       "      <th>calories</th>\n",
       "      <th>timestamp</th>\n",
       "    </tr>\n",
       "  </thead>\n",
       "  <tbody>\n",
       "    <tr>\n",
       "      <th>0</th>\n",
       "      <td>d@gmail.com</td>\n",
       "      <td>1439</td>\n",
       "      <td>2024-02-22 23:03:31.044349</td>\n",
       "    </tr>\n",
       "    <tr>\n",
       "      <th>1</th>\n",
       "      <td>d@gmail.com</td>\n",
       "      <td>1422</td>\n",
       "      <td>2024-02-23 12:09:31.044349</td>\n",
       "    </tr>\n",
       "    <tr>\n",
       "      <th>2</th>\n",
       "      <td>d@gmail.com</td>\n",
       "      <td>1114</td>\n",
       "      <td>2024-02-22 21:38:31.044349</td>\n",
       "    </tr>\n",
       "    <tr>\n",
       "      <th>3</th>\n",
       "      <td>d@gmail.com</td>\n",
       "      <td>339</td>\n",
       "      <td>2024-02-22 20:19:31.044349</td>\n",
       "    </tr>\n",
       "    <tr>\n",
       "      <th>4</th>\n",
       "      <td>d@gmail.com</td>\n",
       "      <td>453</td>\n",
       "      <td>2024-02-23 16:30:31.044349</td>\n",
       "    </tr>\n",
       "    <tr>\n",
       "      <th>...</th>\n",
       "      <td>...</td>\n",
       "      <td>...</td>\n",
       "      <td>...</td>\n",
       "    </tr>\n",
       "    <tr>\n",
       "      <th>184</th>\n",
       "      <td>d@gmail.com</td>\n",
       "      <td>271</td>\n",
       "      <td>2024-03-04 01:30:31.044349</td>\n",
       "    </tr>\n",
       "    <tr>\n",
       "      <th>185</th>\n",
       "      <td>d@gmail.com</td>\n",
       "      <td>739</td>\n",
       "      <td>2024-03-03 22:06:31.044349</td>\n",
       "    </tr>\n",
       "    <tr>\n",
       "      <th>186</th>\n",
       "      <td>d@gmail.com</td>\n",
       "      <td>601</td>\n",
       "      <td>2024-03-03 21:40:31.044349</td>\n",
       "    </tr>\n",
       "    <tr>\n",
       "      <th>187</th>\n",
       "      <td>d@gmail.com</td>\n",
       "      <td>495</td>\n",
       "      <td>2024-03-04 02:11:31.044349</td>\n",
       "    </tr>\n",
       "    <tr>\n",
       "      <th>188</th>\n",
       "      <td>d@gmail.com</td>\n",
       "      <td>639</td>\n",
       "      <td>2024-03-04 05:03:31.044349</td>\n",
       "    </tr>\n",
       "  </tbody>\n",
       "</table>\n",
       "<p>189 rows × 3 columns</p>\n",
       "</div>"
      ],
      "text/plain": [
       "      user_email  calories                  timestamp\n",
       "0    d@gmail.com      1439 2024-02-22 23:03:31.044349\n",
       "1    d@gmail.com      1422 2024-02-23 12:09:31.044349\n",
       "2    d@gmail.com      1114 2024-02-22 21:38:31.044349\n",
       "3    d@gmail.com       339 2024-02-22 20:19:31.044349\n",
       "4    d@gmail.com       453 2024-02-23 16:30:31.044349\n",
       "..           ...       ...                        ...\n",
       "184  d@gmail.com       271 2024-03-04 01:30:31.044349\n",
       "185  d@gmail.com       739 2024-03-03 22:06:31.044349\n",
       "186  d@gmail.com       601 2024-03-03 21:40:31.044349\n",
       "187  d@gmail.com       495 2024-03-04 02:11:31.044349\n",
       "188  d@gmail.com       639 2024-03-04 05:03:31.044349\n",
       "\n",
       "[189 rows x 3 columns]"
      ]
     },
     "execution_count": 70,
     "metadata": {},
     "output_type": "execute_result"
    }
   ],
   "source": [
    "sample_data"
   ]
  },
  {
   "cell_type": "code",
   "execution_count": 18,
   "metadata": {},
   "outputs": [],
   "source": [
    "import psycopg2 as pg"
   ]
  },
  {
   "cell_type": "code",
   "execution_count": 32,
   "metadata": {},
   "outputs": [],
   "source": [
    "from server import get_db_connection\n"
   ]
  },
  {
   "cell_type": "code",
   "execution_count": 59,
   "metadata": {},
   "outputs": [],
   "source": [
    "conn.close()"
   ]
  },
  {
   "cell_type": "code",
   "execution_count": 48,
   "metadata": {},
   "outputs": [
    {
     "name": "stdout",
     "output_type": "stream",
     "text": [
      "<class 'pandas.core.frame.DataFrame'>\n",
      "RangeIndex: 140 entries, 0 to 139\n",
      "Data columns (total 3 columns):\n",
      " #   Column      Non-Null Count  Dtype         \n",
      "---  ------      --------------  -----         \n",
      " 0   user_email  140 non-null    object        \n",
      " 1   calories    140 non-null    int64         \n",
      " 2   timestamp   140 non-null    datetime64[ns]\n",
      "dtypes: datetime64[ns](1), int64(1), object(1)\n",
      "memory usage: 3.4+ KB\n"
     ]
    }
   ],
   "source": [
    "sample_data.info()"
   ]
  },
  {
   "cell_type": "code",
   "execution_count": 62,
   "metadata": {},
   "outputs": [],
   "source": [
    "import time\n",
    "def insert_data(data):\n",
    "    \n",
    "    conn = get_db_connection()\n",
    "\n",
    "    with conn.cursor() as cur:\n",
    "        for idx, row in data.iterrows():\n",
    "            print(row['user_email'], row['calories'], row['timestamp'])\n",
    "            cur.execute(f\"INSERT INTO calories (user_email, calories, time_stamp) VALUES ('{row['user_email']}', '{row['calories']}', '{row['timestamp']}')\")\n",
    "            time.sleep(1)\n",
    "            conn.commit()\n",
    "    conn.close()"
   ]
  },
  {
   "cell_type": "code",
   "execution_count": 61,
   "metadata": {},
   "outputs": [
    {
     "name": "stdout",
     "output_type": "stream",
     "text": [
      "d@gmail.com 774 2024-02-22 16:31:49.966621\n",
      "d@gmail.com 672 2024-02-23 00:51:49.966621\n",
      "d@gmail.com 740 2024-02-23 11:30:49.966621\n",
      "d@gmail.com 381 2024-02-23 04:26:49.966621\n",
      "d@gmail.com 179 2024-02-23 00:15:49.966621\n",
      "d@gmail.com 357 2024-02-22 21:49:49.966621\n",
      "d@gmail.com 879 2024-02-23 14:13:49.966621\n",
      "d@gmail.com 137 2024-02-23 11:46:49.966621\n",
      "d@gmail.com 1290 2024-02-23 03:18:49.966621\n",
      "d@gmail.com 147 2024-02-23 10:59:49.966621\n",
      "d@gmail.com 200 2024-02-23 11:53:49.966621\n",
      "d@gmail.com 877 2024-02-23 01:00:49.966621\n",
      "d@gmail.com 920 2024-02-23 16:12:49.966621\n",
      "d@gmail.com 327 2024-02-23 07:09:49.966621\n",
      "d@gmail.com 71 2024-02-23 18:44:49.966621\n",
      "d@gmail.com 884 2024-02-24 02:13:49.966621\n",
      "d@gmail.com 761 2024-02-23 15:10:49.966621\n",
      "d@gmail.com 1144 2024-02-23 20:41:49.966621\n",
      "d@gmail.com 749 2024-02-24 05:27:49.966621\n",
      "d@gmail.com 937 2024-02-23 12:19:49.966621\n",
      "d@gmail.com 138 2024-02-24 05:48:49.966621\n",
      "d@gmail.com 113 2024-02-24 12:49:49.966621\n",
      "d@gmail.com 656 2024-02-24 02:17:49.966621\n",
      "d@gmail.com 945 2024-02-24 07:54:49.966621\n",
      "d@gmail.com 555 2024-02-24 07:21:49.966621\n",
      "d@gmail.com 1367 2024-02-23 19:09:49.966621\n",
      "d@gmail.com 773 2024-02-24 05:32:49.966621\n",
      "d@gmail.com 1401 2024-02-24 01:18:49.966621\n",
      "d@gmail.com 620 2024-02-24 01:11:49.966621\n",
      "d@gmail.com 1003 2024-02-24 08:43:49.966621\n",
      "d@gmail.com 1470 2024-02-24 10:09:49.966621\n",
      "d@gmail.com 1324 2024-02-24 10:25:49.966621\n",
      "d@gmail.com 1232 2024-02-24 10:16:49.966621\n",
      "d@gmail.com 1299 2024-02-24 10:08:49.966621\n",
      "d@gmail.com 566 2024-02-24 14:19:49.966621\n",
      "d@gmail.com 563 2024-02-25 05:53:49.966621\n",
      "d@gmail.com 1164 2024-02-24 19:25:49.966621\n",
      "d@gmail.com 168 2024-02-25 06:03:49.966621\n",
      "d@gmail.com 633 2024-02-25 02:32:49.966621\n",
      "d@gmail.com 252 2024-02-25 10:24:49.966621\n",
      "d@gmail.com 94 2024-02-25 11:27:49.966621\n",
      "d@gmail.com 1111 2024-02-24 19:42:49.966621\n",
      "d@gmail.com 1082 2024-02-25 01:21:49.966621\n",
      "d@gmail.com 1301 2024-02-25 17:20:49.966621\n",
      "d@gmail.com 1297 2024-02-25 03:30:49.966621\n",
      "d@gmail.com 931 2024-02-25 15:39:49.966621\n",
      "d@gmail.com 600 2024-02-25 08:22:49.966621\n",
      "d@gmail.com 125 2024-02-25 14:48:49.966621\n",
      "d@gmail.com 530 2024-02-25 09:20:49.966621\n",
      "d@gmail.com 278 2024-02-25 03:33:49.966621\n",
      "d@gmail.com 1140 2024-02-25 23:04:49.966621\n",
      "d@gmail.com 1041 2024-02-26 01:57:49.966621\n",
      "d@gmail.com 909 2024-02-25 22:40:49.966621\n",
      "d@gmail.com 99 2024-02-25 21:52:49.966621\n",
      "d@gmail.com 718 2024-02-25 18:50:49.966621\n",
      "d@gmail.com 1459 2024-02-26 00:03:49.966621\n",
      "d@gmail.com 1308 2024-02-26 10:07:49.966621\n",
      "d@gmail.com 608 2024-02-26 04:48:49.966621\n",
      "d@gmail.com 636 2024-02-26 08:30:49.966621\n",
      "d@gmail.com 1156 2024-02-26 02:04:49.966621\n",
      "d@gmail.com 139 2024-02-26 15:38:49.966621\n",
      "d@gmail.com 197 2024-02-25 18:23:49.966621\n",
      "d@gmail.com 386 2024-02-26 08:27:49.966621\n",
      "d@gmail.com 1485 2024-02-26 15:51:49.966621\n",
      "d@gmail.com 267 2024-02-26 16:24:49.966621\n",
      "d@gmail.com 167 2024-02-26 10:14:49.966621\n",
      "d@gmail.com 944 2024-02-26 12:15:49.966621\n",
      "d@gmail.com 431 2024-02-26 13:08:49.966621\n",
      "d@gmail.com 1368 2024-02-26 18:05:49.966621\n",
      "d@gmail.com 1091 2024-02-26 15:41:49.966621\n",
      "d@gmail.com 844 2024-02-26 11:45:49.966621\n",
      "d@gmail.com 146 2024-02-27 01:20:49.966621\n",
      "d@gmail.com 1128 2024-02-26 17:35:49.966621\n",
      "d@gmail.com 1292 2024-02-26 18:31:49.966621\n",
      "d@gmail.com 1179 2024-02-27 05:44:49.966621\n",
      "d@gmail.com 506 2024-02-26 20:45:49.966621\n",
      "d@gmail.com 1346 2024-02-26 21:58:49.966621\n",
      "d@gmail.com 1163 2024-02-27 04:49:49.966621\n",
      "d@gmail.com 466 2024-02-26 21:40:49.966621\n",
      "d@gmail.com 1425 2024-02-26 14:57:49.966621\n",
      "d@gmail.com 1310 2024-02-26 19:59:49.966621\n",
      "d@gmail.com 1410 2024-02-27 03:42:49.966621\n",
      "d@gmail.com 1383 2024-02-27 13:07:49.966621\n",
      "d@gmail.com 1087 2024-02-27 08:22:49.966621\n",
      "d@gmail.com 487 2024-02-27 05:04:49.966621\n",
      "d@gmail.com 725 2024-02-27 00:04:49.966621\n",
      "d@gmail.com 122 2024-02-27 04:35:49.966621\n",
      "d@gmail.com 246 2024-02-27 23:31:49.966621\n",
      "d@gmail.com 1346 2024-02-27 13:21:49.966621\n",
      "d@gmail.com 248 2024-02-27 07:13:49.966621\n",
      "d@gmail.com 402 2024-02-28 00:05:49.966621\n",
      "d@gmail.com 1276 2024-02-27 19:28:49.966621\n",
      "d@gmail.com 741 2024-02-28 04:00:49.966621\n",
      "d@gmail.com 1442 2024-02-28 01:57:49.966621\n",
      "d@gmail.com 753 2024-02-27 20:53:49.966621\n",
      "d@gmail.com 62 2024-02-27 23:02:49.966621\n",
      "d@gmail.com 205 2024-02-27 14:08:49.966621\n",
      "d@gmail.com 1129 2024-02-28 04:24:49.966621\n",
      "d@gmail.com 911 2024-02-28 03:54:49.966621\n",
      "d@gmail.com 589 2024-02-27 15:52:49.966621\n",
      "d@gmail.com 660 2024-02-28 12:11:49.966621\n",
      "d@gmail.com 274 2024-02-27 19:25:49.966621\n",
      "d@gmail.com 1238 2024-02-27 22:19:49.966621\n",
      "d@gmail.com 288 2024-02-27 20:02:49.966621\n",
      "d@gmail.com 1448 2024-02-28 15:06:49.966621\n",
      "d@gmail.com 746 2024-02-28 10:23:49.966621\n",
      "d@gmail.com 1431 2024-02-28 05:08:49.966621\n",
      "d@gmail.com 83 2024-02-28 12:50:49.966621\n",
      "d@gmail.com 170 2024-02-28 03:32:49.966621\n",
      "d@gmail.com 1423 2024-02-28 18:42:49.966621\n",
      "d@gmail.com 80 2024-02-28 20:37:49.966621\n",
      "d@gmail.com 1212 2024-02-28 16:12:49.966621\n",
      "d@gmail.com 845 2024-02-28 08:23:49.966621\n",
      "d@gmail.com 1281 2024-02-29 00:40:49.966621\n",
      "d@gmail.com 373 2024-02-28 19:28:49.966621\n",
      "d@gmail.com 934 2024-02-28 11:52:49.966621\n",
      "d@gmail.com 527 2024-02-29 07:08:49.966621\n",
      "d@gmail.com 523 2024-02-28 23:22:49.966621\n",
      "d@gmail.com 1124 2024-02-28 16:11:49.966621\n",
      "d@gmail.com 846 2024-02-29 14:39:49.966621\n",
      "d@gmail.com 1451 2024-02-29 13:30:49.966621\n",
      "d@gmail.com 747 2024-02-29 14:00:49.966621\n",
      "d@gmail.com 1375 2024-02-29 09:58:49.966621\n",
      "d@gmail.com 118 2024-02-29 06:24:49.966621\n",
      "d@gmail.com 956 2024-02-29 20:28:49.966621\n",
      "d@gmail.com 156 2024-02-29 06:56:49.966621\n",
      "d@gmail.com 965 2024-02-29 00:45:49.966621\n",
      "d@gmail.com 735 2024-02-29 14:08:49.966621\n",
      "d@gmail.com 1053 2024-02-29 19:07:49.966621\n",
      "d@gmail.com 138 2024-02-29 03:45:49.966621\n",
      "d@gmail.com 357 2024-02-29 11:58:49.966621\n",
      "d@gmail.com 1346 2024-02-29 18:23:49.966621\n",
      "d@gmail.com 1239 2024-03-01 01:29:49.966621\n",
      "d@gmail.com 1290 2024-02-29 23:43:49.966621\n",
      "d@gmail.com 216 2024-02-29 10:28:49.966621\n",
      "d@gmail.com 597 2024-02-29 10:23:49.966621\n",
      "d@gmail.com 162 2024-03-01 04:05:49.966621\n",
      "d@gmail.com 1448 2024-02-29 23:26:49.966621\n",
      "d@gmail.com 397 2024-03-01 02:51:49.966621\n",
      "d@gmail.com 292 2024-03-01 06:48:49.966621\n"
     ]
    }
   ],
   "source": [
    "insert_data(sample_data)"
   ]
  },
  {
   "cell_type": "code",
   "execution_count": 66,
   "metadata": {},
   "outputs": [
    {
     "name": "stderr",
     "output_type": "stream",
     "text": [
      "C:\\Users\\Admin\\AppData\\Local\\Temp\\ipykernel_12588\\3478604859.py:2: UserWarning: pandas only supports SQLAlchemy connectable (engine/connection) or database string URI or sqlite3 DBAPI2 connection. Other DBAPI2 objects are not tested. Please consider using SQLAlchemy.\n",
      "  avg_per_day_df = pd.read_sql_query(\n",
      "C:\\Users\\Admin\\AppData\\Local\\Temp\\ipykernel_12588\\3478604859.py:10: UserWarning: pandas only supports SQLAlchemy connectable (engine/connection) or database string URI or sqlite3 DBAPI2 connection. Other DBAPI2 objects are not tested. Please consider using SQLAlchemy.\n",
      "  avg_per_weekday_df = pd.read_sql_query(\n"
     ]
    }
   ],
   "source": [
    "\n"
   ]
  },
  {
   "cell_type": "code",
   "execution_count": null,
   "metadata": {},
   "outputs": [],
   "source": []
  }
 ],
 "metadata": {
  "kernelspec": {
   "display_name": "venv",
   "language": "python",
   "name": "python3"
  },
  "language_info": {
   "codemirror_mode": {
    "name": "ipython",
    "version": 3
   },
   "file_extension": ".py",
   "mimetype": "text/x-python",
   "name": "python",
   "nbconvert_exporter": "python",
   "pygments_lexer": "ipython3",
   "version": "3.11.5"
  }
 },
 "nbformat": 4,
 "nbformat_minor": 2
}
